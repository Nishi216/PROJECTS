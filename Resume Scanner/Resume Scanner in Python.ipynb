{
 "cells": [
  {
   "cell_type": "code",
   "execution_count": 2,
   "id": "ac0cb2e6",
   "metadata": {},
   "outputs": [
    {
     "name": "stdout",
     "output_type": "stream",
     "text": [
      "Collecting docx2txt\n",
      "  Downloading docx2txt-0.8.tar.gz (2.8 kB)\n",
      "Building wheels for collected packages: docx2txt\n",
      "  Building wheel for docx2txt (setup.py): started\n",
      "  Building wheel for docx2txt (setup.py): finished with status 'done'\n",
      "  Created wheel for docx2txt: filename=docx2txt-0.8-py3-none-any.whl size=3966 sha256=0d3617f7767499453db003303408d8588f8f4ec637421889048d2b5862f3804c\n",
      "  Stored in directory: c:\\users\\hp\\appdata\\local\\pip\\cache\\wheels\\55\\f0\\2c\\81637d42670985178b77df6d41b9b6c6dc18c94818447414b9\n",
      "Successfully built docx2txt\n",
      "Installing collected packages: docx2txt\n",
      "Successfully installed docx2txt-0.8\n"
     ]
    }
   ],
   "source": [
    "!pip install docx2txt"
   ]
  },
  {
   "cell_type": "code",
   "execution_count": 71,
   "id": "8c291d9b",
   "metadata": {},
   "outputs": [],
   "source": [
    "import docx2txt\n",
    "from sklearn.feature_extraction.text import CountVectorizer\n",
    "from sklearn.metrics.pairwise import cosine_similarity"
   ]
  },
  {
   "cell_type": "code",
   "execution_count": 72,
   "id": "62a0ff88",
   "metadata": {},
   "outputs": [],
   "source": [
    "job_description = docx2txt.process('Job Description.docx')\n",
    "resume1 = docx2txt.process('sample resume 1.docx')\n",
    "resume2 = docx2txt.process('sample resume 2.docx')"
   ]
  },
  {
   "cell_type": "code",
   "execution_count": 74,
   "id": "24bc4c3a",
   "metadata": {},
   "outputs": [
    {
     "data": {
      "text/plain": [
       "<2x263 sparse matrix of type '<class 'numpy.int64'>'\n",
       "\twith 280 stored elements in Compressed Sparse Row format>"
      ]
     },
     "execution_count": 74,
     "metadata": {},
     "output_type": "execute_result"
    }
   ],
   "source": [
    "content1 = [job_description, resume1]\n",
    "cv = CountVectorizer()\n",
    "matrix1 = cv.fit_transform(content1)\n",
    "cv.fit_transform(content1)"
   ]
  },
  {
   "cell_type": "code",
   "execution_count": 79,
   "id": "7b1742e7",
   "metadata": {},
   "outputs": [
    {
     "name": "stdout",
     "output_type": "stream",
     "text": [
      "['12' '123' '15' '19' '2010' '2014' '2016' '2018' '22' '225m' '25' '250k'\n",
      " '32' '456' '730k' '7890' '90' 'ability' 'achieve' 'across' 'address' 'an'\n",
      " 'analysis' 'analyst' 'analytics' 'and' 'annual' 'annually' 'applied'\n",
      " 'april' 'architectures' 'areas' 'as' 'august' 'bachelor' 'basis' 'best'\n",
      " 'board' 'boost' 'boosted' 'boundaries' 'broader' 'brooklyn' 'build'\n",
      " 'built' 'business' 'by' 'cause' 'centric' 'churn' 'cloud' 'cohort'\n",
      " 'collaborate' 'collaborated' 'com' 'computer' 'concepts' 'contractors'\n",
      " 'conversion' 'conversions' 'costs' 'current' 'customer' 'data' 'database'\n",
      " 'decide' 'degree' 'deliver' 'designed' 'developed' 'development'\n",
      " 'directly' 'economics' 'ecosystem' 'education' 'effectively' 'email'\n",
      " 'employees' 'engineering' 'enterprise' 'equivalent' 'excel' 'excellent'\n",
      " 'executive' 'experience' 'experiment' 'experimentation' 'experiments'\n",
      " 'export' 'facing' 'farahmartin' 'feature' 'field' 'find' 'findings'\n",
      " 'first' 'for' 'formulate' 'fountain' 'from' 'full' 'funnels' 'geico'\n",
      " 'goal' 'google' 'ground' 'help' 'hire' 'hours' 'house' 'hyper' 'ideas'\n",
      " 'identified' 'implemented' 'import' 'improve' 'improved' 'improvement'\n",
      " 'in' 'incremental' 'inference' 'infrastructure' 'insights' 'integration'\n",
      " 'intelligence' 'into' 'keywords' 'knowledge' 'kpis' 'labor' 'lakes'\n",
      " 'leadership' 'learn' 'learning' 'led' 'levels' 'lift' 'linkedin'\n",
      " 'logistic' 'long' 'machine' 'management' 'managers' 'market' 'marketing'\n",
      " 'mathematics' 'may' 'minimum' 'model' 'modeling' 'models' 'monthly'\n",
      " 'nationwide' 'needs' 'new' 'ny' 'of' 'on' 'open' 'operational'\n",
      " 'opportunity' 'or' 'organizational' 'out' 'owned' 'pa' 'pandas'\n",
      " 'parameter' 'partnered' 'perform' 'pipelines' 'pitch' 'pittsburgh'\n",
      " 'points' 'polished' 'practical' 'practices' 'predict' 'preferred'\n",
      " 'presentation' 'presented' 'pricing' 'problems' 'procedural' 'product'\n",
      " 'products' 'professional' 'profitability' 'program' 'properties'\n",
      " 'provide' 'python' 'qualifications' 'rate' 'real' 'received' 'reduce'\n",
      " 'regression' 'related' 'relationships' 'repair' 'report' 'reporting'\n",
      " 'reports' 'resulting' 'retention' 'revealing' 'revenue' 'root' 'saving'\n",
      " 'science' 'scikit' 'segment' 'seo' 'september' 'sheets' 'site' 'skills'\n",
      " 'solutions' 'source' 'space' 'sql' 'stakeholders' 'streaming'\n",
      " 'successfully' 'such' 'suite' 'tableau' 'talent' 'target' 'team'\n",
      " 'technical' 'technology' 'term' 'testing' 'that' 'the' 'their' 'through'\n",
      " 'time' 'to' 'tooling' 'training' 'translating' 'tuning' 'understand'\n",
      " 'university' 'up' 'users' 'using' 'value' 'vehicles' 'visitors'\n",
      " 'warehousing' 'washington' 'wavely' 'web' 'which' 'with' 'work' 'yearly'\n",
      " 'york' 'yoy']\n"
     ]
    }
   ],
   "source": [
    "total_features = cv.get_feature_names_out()\n",
    "print(cv.get_feature_names_out())"
   ]
  },
  {
   "cell_type": "code",
   "execution_count": 69,
   "id": "165233e0",
   "metadata": {},
   "outputs": [],
   "source": [
    "resume1_list = resume1.split('\\n\\n')"
   ]
  },
  {
   "cell_type": "code",
   "execution_count": 75,
   "id": "1a1a2631",
   "metadata": {},
   "outputs": [],
   "source": [
    "cv2 = CountVectorizer()\n",
    "matrix2 = cv2.fit_transform(resume1_list)"
   ]
  },
  {
   "cell_type": "code",
   "execution_count": 80,
   "id": "c3abea1c",
   "metadata": {},
   "outputs": [
    {
     "name": "stdout",
     "output_type": "stream",
     "text": [
      "['12' '123' '15' '19' '2010' '2014' '2016' '2018' '22' '225m' '25' '250k'\n",
      " '32' '456' '730k' '7890' '90' 'across' 'address' 'an' 'analysis'\n",
      " 'analyst' 'analytics' 'and' 'annual' 'annually' 'applied' 'april' 'areas'\n",
      " 'as' 'august' 'basis' 'boost' 'boosted' 'brooklyn' 'built' 'business'\n",
      " 'by' 'cause' 'churn' 'cohort' 'collaborated' 'com' 'contractors'\n",
      " 'conversion' 'conversions' 'costs' 'current' 'customer' 'data' 'decide'\n",
      " 'designed' 'developed' 'directly' 'economics' 'education' 'email'\n",
      " 'employees' 'excel' 'executive' 'experience' 'experiment'\n",
      " 'experimentation' 'experiments' 'farahmartin' 'find' 'findings' 'first'\n",
      " 'for' 'formulate' 'fountain' 'from' 'full' 'funnels' 'geico' 'google'\n",
      " 'ground' 'help' 'hire' 'hours' 'house' 'identified' 'implemented'\n",
      " 'improve' 'improved' 'improvement' 'in' 'incremental' 'infrastructure'\n",
      " 'insights' 'into' 'keywords' 'kpis' 'labor' 'leadership' 'learn' 'led'\n",
      " 'lift' 'linkedin' 'logistic' 'long' 'managers' 'market' 'marketing'\n",
      " 'mathematics' 'may' 'model' 'modeling' 'models' 'monthly' 'nationwide'\n",
      " 'new' 'ny' 'of' 'on' 'operational' 'opportunity' 'out' 'owned' 'pa'\n",
      " 'pandas' 'partnered' 'perform' 'pittsburgh' 'points' 'predict'\n",
      " 'presented' 'pricing' 'problems' 'procedural' 'product' 'products'\n",
      " 'profitability' 'program' 'properties' 'provide' 'python' 'rate' 'real'\n",
      " 'received' 'reduce' 'regression' 'repair' 'report' 'reporting' 'reports'\n",
      " 'resulting' 'retention' 'revealing' 'revenue' 'root' 'saving' 'scikit'\n",
      " 'segment' 'seo' 'september' 'sheets' 'site' 'skills' 'sql' 'stakeholders'\n",
      " 'successfully' 'tableau' 'target' 'team' 'term' 'testing' 'that' 'the'\n",
      " 'their' 'through' 'time' 'to' 'understand' 'university' 'up' 'users'\n",
      " 'using' 'value' 'vehicles' 'visitors' 'washington' 'wavely' 'web' 'which'\n",
      " 'with' 'work' 'yearly' 'york' 'yoy']\n"
     ]
    }
   ],
   "source": [
    "resume_features = cv2.get_feature_names_out()\n",
    "print(cv2.get_feature_names_out())"
   ]
  },
  {
   "cell_type": "code",
   "execution_count": 81,
   "id": "afb7bd6b",
   "metadata": {},
   "outputs": [
    {
     "data": {
      "text/plain": [
       "['ability',\n",
       " 'achieve',\n",
       " 'architectures',\n",
       " 'bachelor',\n",
       " 'best',\n",
       " 'board',\n",
       " 'boundaries',\n",
       " 'broader',\n",
       " 'build',\n",
       " 'centric',\n",
       " 'cloud',\n",
       " 'collaborate',\n",
       " 'computer',\n",
       " 'concepts',\n",
       " 'database',\n",
       " 'degree',\n",
       " 'deliver',\n",
       " 'development',\n",
       " 'ecosystem',\n",
       " 'effectively',\n",
       " 'engineering',\n",
       " 'enterprise',\n",
       " 'equivalent',\n",
       " 'excellent',\n",
       " 'export',\n",
       " 'facing',\n",
       " 'feature',\n",
       " 'field',\n",
       " 'goal',\n",
       " 'hyper',\n",
       " 'ideas',\n",
       " 'import',\n",
       " 'inference',\n",
       " 'integration',\n",
       " 'intelligence',\n",
       " 'knowledge',\n",
       " 'lakes',\n",
       " 'learning',\n",
       " 'levels',\n",
       " 'machine',\n",
       " 'management',\n",
       " 'minimum',\n",
       " 'needs',\n",
       " 'open',\n",
       " 'or',\n",
       " 'organizational',\n",
       " 'parameter',\n",
       " 'pipelines',\n",
       " 'pitch',\n",
       " 'polished',\n",
       " 'practical',\n",
       " 'practices',\n",
       " 'preferred',\n",
       " 'presentation',\n",
       " 'professional',\n",
       " 'qualifications',\n",
       " 'related',\n",
       " 'relationships',\n",
       " 'science',\n",
       " 'solutions',\n",
       " 'source',\n",
       " 'space',\n",
       " 'streaming',\n",
       " 'such',\n",
       " 'suite',\n",
       " 'talent',\n",
       " 'technical',\n",
       " 'technology',\n",
       " 'tooling',\n",
       " 'training',\n",
       " 'translating',\n",
       " 'tuning',\n",
       " 'warehousing']"
      ]
     },
     "execution_count": 81,
     "metadata": {},
     "output_type": "execute_result"
    }
   ],
   "source": [
    "word_not_in_cv = [word for word in total_features if word not in resume_features]\n",
    "word_not_in_cv"
   ]
  },
  {
   "cell_type": "code",
   "execution_count": 82,
   "id": "8d5b4f9f",
   "metadata": {},
   "outputs": [],
   "source": [
    "similarity_matrix1 = cosine_similarity(matrix1)"
   ]
  },
  {
   "cell_type": "code",
   "execution_count": 83,
   "id": "80c157a9",
   "metadata": {},
   "outputs": [
    {
     "name": "stdout",
     "output_type": "stream",
     "text": [
      "[[1.         0.56065448]\n",
      " [0.56065448 1.        ]]\n"
     ]
    }
   ],
   "source": [
    "print(similarity_matrix1)"
   ]
  },
  {
   "cell_type": "code",
   "execution_count": 84,
   "id": "09f4e4a4",
   "metadata": {},
   "outputs": [
    {
     "name": "stdout",
     "output_type": "stream",
     "text": [
      "Resume is matched by : 56.07  %\n"
     ]
    }
   ],
   "source": [
    "print('Resume is matched by : {:.2f}  '.format(similarity_matrix1[1][0]*100)+'%')"
   ]
  },
  {
   "cell_type": "code",
   "execution_count": 85,
   "id": "1bb63eb4",
   "metadata": {},
   "outputs": [],
   "source": [
    "content2 = [job_description, resume2]\n",
    "matrix2 = cv.fit_transform(content2)"
   ]
  },
  {
   "cell_type": "code",
   "execution_count": 86,
   "id": "bd2b536e",
   "metadata": {},
   "outputs": [
    {
     "name": "stdout",
     "output_type": "stream",
     "text": [
      "[[1.         0.58670022]\n",
      " [0.58670022 1.        ]]\n"
     ]
    }
   ],
   "source": [
    "similarity_matrix2 = cosine_similarity(matrix2)\n",
    "print(similarity_matrix2)"
   ]
  },
  {
   "cell_type": "code",
   "execution_count": 87,
   "id": "918981d4",
   "metadata": {},
   "outputs": [
    {
     "name": "stdout",
     "output_type": "stream",
     "text": [
      "Resume is matched by : 58.67  %\n"
     ]
    }
   ],
   "source": [
    "print('Resume is matched by : {:.2f}  '.format(similarity_matrix2[1][0]*100)+'%')"
   ]
  },
  {
   "cell_type": "code",
   "execution_count": null,
   "id": "7a386a1e",
   "metadata": {},
   "outputs": [],
   "source": []
  }
 ],
 "metadata": {
  "kernelspec": {
   "display_name": "Python 3",
   "language": "python",
   "name": "python3"
  },
  "language_info": {
   "codemirror_mode": {
    "name": "ipython",
    "version": 3
   },
   "file_extension": ".py",
   "mimetype": "text/x-python",
   "name": "python",
   "nbconvert_exporter": "python",
   "pygments_lexer": "ipython3",
   "version": "3.8.8"
  }
 },
 "nbformat": 4,
 "nbformat_minor": 5
}
